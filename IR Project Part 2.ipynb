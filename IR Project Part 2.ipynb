{
 "cells": [
  {
   "cell_type": "code",
   "execution_count": null,
   "metadata": {},
   "outputs": [],
   "source": [
    "\n",
    "from sklearn.metrics import confusion_matrix\n",
    "import matplotlib.pyplot as plt \n",
    "from sklearn.naive_bayes import MultinomialNB\n",
    "from sklearn.model_selection import train_test_split\n",
    "import pandas as pd\n",
    "\n",
    "tfIdf_df = pd.read_csv('tfIdf_df.csv')\n",
    "tfIdf_df.pop('Genre') # gtting rid of the extra genre immediatly\n",
    "\n"
   ]
  },
  {
   "cell_type": "code",
   "execution_count": null,
   "metadata": {},
   "outputs": [],
   "source": [
    "y = tfIdf_df.pop('Genre')\n",
    "X = tfIdf_df\n",
    "X_train, X_test, y_train, y_test = train_test_split(X, y, stratify=y, test_size=0.3)\n",
    "\n",
    "#MULTINOMIAL NAIVE BAYES:\n",
    "###############################################################################################\n",
    "model = MultinomialNB().fit(X_train, y_train)\n",
    "all_predictions = model.predict(X_test)\n",
    "\n",
    "\n",
    "labels = ['Rock', 'Pop', 'HipHop', 'Metal', 'Country', 'R&B']\n",
    "cm = confusion_matrix(y_test, all_predictions, labels)\n",
    "print(cm)\n",
    "fig = plt.figure()\n",
    "ax = fig.add_subplot(111)\n",
    "cax = ax.matshow(cm)\n",
    "plt.title('Confusion matrix of the classifier')\n",
    "fig.colorbar(cax)\n",
    "ax.set_xticklabels([''] + labels)\n",
    "ax.set_yticklabels([''] + labels)\n",
    "plt.xlabel('Predicted')\n",
    "plt.ylabel('True')\n",
    "plt.show()\n",
    "################################################################################################\n",
    "\n",
    "# ACCURACY SCORE: 1732/3600 =  48.11% accuracy for classification. (with 3000 samples (600 testing)) .20 testing\n",
    "# ACCURACY SCORE: 2362/4800 = 49.21% accuracy for classification. (with 4000 samples (800 testing))  .20 testing"
   ]
  }
 ],
 "metadata": {
  "kernelspec": {
   "display_name": "Python 3.8.0 64-bit",
   "language": "python",
   "name": "python3"
  },
  "language_info": {
   "codemirror_mode": {
    "name": "ipython",
    "version": 3
   },
   "file_extension": ".py",
   "mimetype": "text/x-python",
   "name": "python",
   "nbconvert_exporter": "python",
   "pygments_lexer": "ipython3",
   "version": "3.8.0"
  },
  "orig_nbformat": 4,
  "vscode": {
   "interpreter": {
    "hash": "85bd69af1b1bb26f7aaee23ba1f02ca88706a55395ebe323bdecac8da978e721"
   }
  }
 },
 "nbformat": 4,
 "nbformat_minor": 2
}
